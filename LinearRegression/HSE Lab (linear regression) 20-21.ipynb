{
 "cells": [
  {
   "cell_type": "markdown",
   "metadata": {},
   "source": [
    "# Лабораторная работа 2\n",
    "\n",
    "## Линейная регрессия"
   ]
  },
  {
   "cell_type": "markdown",
   "metadata": {},
   "source": [
    "### Метод наименьших квадратов: постановка задачи\n",
    "\n",
    "Рассмотрим систему уравнений $Xa = y$, в которой $a$ — столбец неизвестных. Её можно переписать в векторном виде\n",
    "$$x_1 a_1 + x_2 a_2 + \\ldots + x_k a_k = y,$$\n",
    "где $x_1,\\ldots,x_k$ — столбцы матрицы $X$. Таким образом, решить исходную систему означает найти линейную комбинацию векторов $x_1,\\ldots,x_k$, равную правой части. Но что делать, если такой линейной комбинации не существует? Геометрически это означает, что вектор $y$ не лежит в подпространстве $U = \\langle x_1,\\ldots, x_k\\rangle$. В этом случае мы можем найти *псевдорешение*: вектор коэффициентов $\\hat{a}$, для которого линейная комбинация $x_1 \\hat{a}_1 + x_2 \\hat{a}_2 + \\ldots + x_k \\hat{a}_k$ хоть и не равна в точности $y$, но является наилучшим приближением — то есть ближайшей к $y$ точкой $\\hat{y}$ подпространства $U$ (иными словами, ортогональной проекцией $y$ на это подпростанство). Итак, цель наших исканий можно сформулировать двумя эквивалентными способами:\n",
    "\n",
    "1. Найти вектор $\\hat{a}$, для которого длина разности $|X\\hat{a} - y|$ минимальна (отсюда название \"метод наименьших квадратов\");\n",
    "2. Найти ортогональную проекцию $\\hat{y}$ вектора $y$ на подпространство $U$ и представить её в виде $X\\hat{a}$.\n",
    "\n",
    "Далее мы будем предполагать, что векторы $x_1,\\ldots,x_k$ линейно независимы (если нет, то сначала имеет смысл выделить максимальную линейно независимую подсистему).\n",
    "\n",
    "На лекциях было показано, что проекция вектора $y$ на подпространство $U = \\langle x_1,\\ldots, x_k\\rangle$, записывается в виде\n",
    "$$\\hat{y} = X\\left(X^TX\\right)^{-1}X^Ty,$$\n",
    "и, соответственно, искомый вектор $\\hat{a}$ равен\n",
    "$$\\hat{a} = \\left(X^TX\\right)^{-1}X^Ty.$$"
   ]
  },
  {
   "cell_type": "markdown",
   "metadata": {},
   "source": [
    "### Задача линейной регрессии\n",
    "\n",
    "Начнём с примера. Допустим, вы хотите найти зависимость среднего балла S студента ФКН от его роста H, веса W, длины волос L и N — количества часов, которые он ежедневно посвящает учёбе. Представьте, что мы измерили все эти параметры для $n$ студентов и получили наборы значений: $S_1,\\ldots, S_n$, $H_1,\\ldots, H_n$ и так далее.\n",
    "\n",
    "Тут можно подбирать много разных умных моделей, но начать имеет смысл с самой простой, линейной:\n",
    "$$S = a_1H + a_2W + a_3L + a_4N + a_5.$$\n",
    "Конечно, строгой линейной зависимости нет (иначе можно было бы радостно упразднить экзамены), но мы можем попробовать подобрать коэффициенты $a_1, a_2, a_3, a_4, a_5$, для которых отклонение правой части от наблюдаемых было бы наименьшим:\n",
    "$$\\sum_{i=1}^n\\left(S_i - ( a_1H_i + a_2W_i + a_3L_i + a_4N_i + a_5)\\right)^2 \\longrightarrow \\min$$\n",
    "И сразу видно, что мы получили задачу на метод наименьших квадратов! А именно, у нас\n",
    "$$X =\n",
    "\\begin{pmatrix}\n",
    "H_1 & W_1 & L_1 & N_1 & 1\\\\\n",
    "H_2 & W_2 & L_2 & N_2 & 1\\\\\n",
    "\\dots & \\dots & \\dots & \\dots & \\dots \\\\\n",
    "H_n & W_n & L_n & N_n & 1\n",
    "\\end{pmatrix},\\qquad y=\n",
    "\\begin{pmatrix}\n",
    "S_1\\\\ S_2\\\\ \\vdots \\\\ S_n\n",
    "\\end{pmatrix}$$\n",
    "\n",
    "Решая эту задачу с помощью уже известных формул, получаем оценки коэффициентов $\\hat{a}_i$ ($i = 1\\ldots,5$)."
   ]
  },
  {
   "cell_type": "markdown",
   "metadata": {},
   "source": [
    "Теперь проговорим общую постановку задачи линейной регрессии. У нас есть $k$ переменных $x_1,\\ldots,x_k$ (\"регрессоров\"), через которые мы хотим выразить \"объясняемую переменную\" $y$:\n",
    "$$y = a_1x_1 + a_2x_2 + \\ldots + a_kx_k$$\n",
    "Значения всех переменных мы измерили $n$ раз (у $n$ различных объектов,  в $n$ различных моментов времени - это зависит от задачи). Подставим эти данные в предыдущее равенство:\n",
    "$$\\begin{pmatrix}\n",
    "y_1\\\\ y_2 \\\\ \\vdots \\\\ y_n\n",
    "\\end{pmatrix} = \n",
    "a_1\\begin{pmatrix}\n",
    "x_{11} \\\\ x_{21} \\\\ \\vdots \\\\ x_{n1} \\end{pmatrix} + a_2\\begin{pmatrix}\n",
    "x_{12} \\\\ x_{22} \\\\ \\vdots \\\\ x_{n2} \\end{pmatrix} + \\ldots + a_k\\begin{pmatrix}\n",
    "x_{1k} \\\\ x_{2k} \\\\ \\vdots \\\\ x_{nk} \\end{pmatrix}$$\n",
    "(здесь $x_{ij}$ - это значение $j$-го признака на $i$-м измерении). Это удобно переписать в матричном виде:\n",
    "$$\\begin{pmatrix}\n",
    "x_{11} & x_{12} & \\ldots & x_{1k}\\\\\n",
    "x_{21} & x_{22} & \\ldots & x_{2k}\\\\\n",
    "\\dots & \\dots & \\dots & \\dots\\\\\n",
    "x_{n1} & x_{n2} & \\ldots & x_{nk}\n",
    "\\end{pmatrix} \\cdot\n",
    "\\begin{pmatrix}\n",
    "a_1 \\\\ a_2 \\\\ \\vdots \\\\ a_k\n",
    "\\end{pmatrix} = \n",
    "\\begin{pmatrix}\n",
    "y_1 \\\\ y_2 \\\\ \\vdots \\\\ y_n\n",
    "\\end{pmatrix}$$\n",
    "или коротко $Xa = y$. Поскольку на практике эта система уравнений зачастую не имеет решения (ибо зависимости в жизни редко бывают действительно линейными), методом наименьших квадратов ищется псевдорешение."
   ]
  },
  {
   "cell_type": "markdown",
   "metadata": {},
   "source": [
    "### Оценка качества. Обучение и тест \n",
    "\n",
    "После того, как вы построили регрессию и получили какую-то зависимость объясняемой переменной от регрессоров, настаёт время оценить качество регрессии. Есть много разных функционалов качества; мы пока будем говорить только о самом простом и очевидном из них: о среднеквадратичной ошибке (mean square error). Она равна\n",
    "$$\\frac1{n}|X\\hat{a} - y|^2 = \\frac1{n}\\sum_{i=1}^n\\left(\\hat{a}_1x_{i1} + \\hat{a}_2x_{i2} + \\ldots + \\hat{a}_kx_{ik} - y_i\\right)^2$$\n",
    "\n",
    "В целом, хочется искать модели с наименьшей mean square error на имеющихся данных. Однако слишком фанатичная гонка за минимизацией ошибки может привести к печальным последствиям, в чём Вам предстоит убедиться в ходе выполнения этой лабораторной.\n",
    "\n",
    "Чтобы не попадать в эту ловушку, данные обычно делят на обучающие (по которым строят модель и оценивают коэффициенты) и тестовые. Лучшей стоит счесть ту модель, для которой значение функционала качества будет меньше."
   ]
  },
  {
   "cell_type": "markdown",
   "metadata": {},
   "source": [
    "### Правила оформления графиков\n",
    "При работе с данными часто неудобно делать какие-то выводы, если смотреть на таблицу и числа в частности, поэтому важно уметь визуализировать данные. \n",
    "\n",
    "У matplotlib, конечно же, есть [документация](https://matplotlib.org/users/index.html) с большим количеством [примеров](https://matplotlib.org/examples/), но для начала достаточно знать про несколько основных типов графиков:\n",
    "- plot — обычный поточечный график, которым можно изображать кривые или отдельные точки;\n",
    "- hist — гистограмма, показывающая распределение некоторой величины;\n",
    "- scatter — график, показывающий взаимосвязь двух величин;\n",
    "- bar — столбцовый график, показывающий взаимосвязь количественной величины от категориальной.\n",
    "\n",
    "Ещё одна билиотека для визуализации: [seaborn](https://jakevdp.github.io/PythonDataScienceHandbook/04.14-visualization-with-seaborn.html). Это настройка над matplotlib, иногда удобнее и красивее делать визуализации через неё. \n",
    "\n",
    "При выполнении этой лабораторной Вы столкнётесь с необходимость рисовать большое количество графиков. Не забывайте про базовые принципы построения приличных графиков:\n",
    "- оси должны быть подписаны, причём не слишком мелко;\n",
    "- у графика должно быть название;\n",
    "- если изображено несколько графиков, то необходима поясняющая легенда;\n",
    "- для точек из разных выборок, необходимо использовать разные цвета;\n",
    "- все линии на графиках должны быть чётко видны (нет похожих цветов или цветов, сливающихся с фоном);\n",
    "- если отображена величина, имеющая очевидный диапазон значений (например, проценты могут быть от 0 до 100), то желательно масштабировать ось на весь диапазон значений (исключением является случай, когда вам необходимо показать малое отличие, которое незаметно в таких масштабах).\n",
    "\n",
    "Помните, что проверяющий имеет право снизить оценку за неопрятные графики."
   ]
  },
  {
   "cell_type": "markdown",
   "metadata": {},
   "source": [
    "### Формат сдачи\n",
    "Задания сдаются через систему Anytask. Инвайт можно найти на странице курса. Присылать необходимо ноутбук с выполненным заданием. Сам ноутбук называйте в формате homework-practice-02-linregr-Username.ipynb, где Username — Ваша фамилия."
   ]
  },
  {
   "cell_type": "markdown",
   "metadata": {},
   "source": [
    "### Задание 1. Метод наименьших квадратов (3 балла)"
   ]
  },
  {
   "cell_type": "markdown",
   "metadata": {},
   "source": [
    "Скачайте файлы ``train.txt`` и ``test.txt``. В первом из них находится обучающая выборка, а во втором — тестовая. Каждый из файлов содержит два столбца чисел, разделённых пробелами: в первом — $n$ точек (значения аргумента $x$), во втором — значения некоторой функции $y = f(x)$ в этих точках, искажённые случайным шумом. Ваша задача — по обучающей выборке подобрать функцию $y = g(x)$, пристойно приближающую неизвестную вам зависимость."
   ]
  },
  {
   "cell_type": "markdown",
   "metadata": {},
   "source": [
    "Загрузим обучающие и тестовые данные (не забудьте ввести правильный путь!)."
   ]
  },
  {
   "cell_type": "code",
   "execution_count": 33,
   "metadata": {},
   "outputs": [],
   "source": [
    "import numpy as np"
   ]
  },
  {
   "cell_type": "code",
   "execution_count": 34,
   "metadata": {},
   "outputs": [],
   "source": [
    "data_train = np.loadtxt('train.txt', delimiter=',')\n",
    "data_test = np.loadtxt('test.txt', delimiter=',')"
   ]
  },
  {
   "cell_type": "markdown",
   "metadata": {},
   "source": [
    "**0. [0 баллов]** Разделим значения $x$ и $y$"
   ]
  },
  {
   "cell_type": "code",
   "execution_count": 35,
   "metadata": {},
   "outputs": [
    {
     "data": {
      "text/plain": [
       "array([[-0.2 ],\n",
       "       [-0.14],\n",
       "       [-0.08],\n",
       "       [-0.02],\n",
       "       [ 0.04],\n",
       "       [ 0.1 ],\n",
       "       [ 0.16],\n",
       "       [ 0.22],\n",
       "       [ 0.28],\n",
       "       [ 0.34],\n",
       "       [ 0.4 ],\n",
       "       [ 0.46],\n",
       "       [ 0.52],\n",
       "       [ 0.58],\n",
       "       [ 0.64],\n",
       "       [ 0.7 ],\n",
       "       [ 0.76],\n",
       "       [ 0.82],\n",
       "       [ 0.88],\n",
       "       [ 0.94],\n",
       "       [ 1.  ]])"
      ]
     },
     "execution_count": 35,
     "metadata": {},
     "output_type": "execute_result"
    }
   ],
   "source": [
    "X_train = data_train[:,0:1]\n",
    "y_train = data_train[:,1:2]\n",
    "\n",
    "X_test = data_test[:, 0]\n",
    "y_test = data_test[:, 1]\n",
    "\n",
    "X_train"
   ]
  },
  {
   "cell_type": "markdown",
   "metadata": {},
   "source": [
    "**1. [0.1 балла]** Найдите с помощью метода наименьших квадратов линейную функцию ($y = kx + b$), наилучшим образом приближающую неизвестную зависимость. Полезные функции: ``numpy.ones(n)`` для создания массива из единиц длины $n$ и ``numpy.concatenate((А, В), axis=1)`` для слияния двух матриц по столбцам (пара ``А`` и ``В`` превращается в матрицу ``[A B]``). Напечатайте этот многочлен в виде $kx+b$."
   ]
  },
  {
   "cell_type": "code",
   "execution_count": 36,
   "metadata": {},
   "outputs": [
    {
     "name": "stdout",
     "output_type": "stream",
     "text": [
      "[2.2791345]x + [4.43323091]\n"
     ]
    }
   ],
   "source": [
    "#╰( ͡° ͜ʖ ͡° )つ──☆*:・ﾟ\n",
    "n = len(X_train)\n",
    "A = np.concatenate((X_train,  np.ones((n,1))), axis = 1)\n",
    "AT = np.transpose(A)\n",
    "k , b = np.linalg.inv(AT @ A) @ AT @ y_train\n",
    "print(k,'x + ', b, sep = '')"
   ]
  },
  {
   "cell_type": "markdown",
   "metadata": {},
   "source": [
    "**2. [0.15 балла]** Нарисуйте на плоскости точки $(x_i, y_i)$ из обеих выборок и полученную линейную функцию."
   ]
  },
  {
   "cell_type": "code",
   "execution_count": 37,
   "metadata": {},
   "outputs": [
    {
     "data": {
      "image/png": "[encoded data removed]",
      "text/plain": [
       "<Figure size 432x288 with 1 Axes>"
      ]
     },
     "metadata": {
      "needs_background": "light"
     },
     "output_type": "display_data"
    }
   ],
   "source": [
    "#╰( ͡° ͜ʖ ͡° )つ──☆*:・ﾟ\n",
    "import matplotlib.pyplot as plt\n",
    "x = np.linspace(-0.2, 1, 100)\n",
    "plt.plot(X_train, y_train, 'ro')\n",
    "plt.plot(x, k * x + b, label='kx + b')\n",
    "plt.xlabel('x')\n",
    "plt.ylabel('y')\n",
    "plt.legend()\n",
    "plt.show()"
   ]
  },
  {
   "cell_type": "markdown",
   "metadata": {},
   "source": [
    "**3. [0.15 балла]** Глядя на данные, подумайте, многочленом какой степени можно было бы лучше всего приблизить эту функцию с точки зрения минимизации среднеквадратичной ошибки на обучающей выборке. Найдите этот многочлен и напечатайте его в виде $a_0 + a_1 x + \\ldots a_k x^k$."
   ]
  },
  {
   "cell_type": "code",
   "execution_count": 38,
   "metadata": {},
   "outputs": [],
   "source": [
    "#хочу функцию, чтобы печатала многочлены, это удобно\n",
    "\n",
    "def poly_printer(poly):\n",
    "    n = len(poly)\n",
    "    for i in range(n):\n",
    "        if i == n - 1:\n",
    "            if float(poly[n - 1]) < 0:\n",
    "                print(f' - {float(-poly[n - 1])}', end='')\n",
    "            else:\n",
    "                print(f' + {float(poly[n - 1])}', end='')\n",
    "        elif poly[i] < 0:\n",
    "            if i == 0:\n",
    "                print(f'-{float(-poly[i])} x^{n - 1 - i} ', end='')\n",
    "            else:\n",
    "                print(f' - {float(-poly[i])} x^{n - 1 - i} ', end='')\n",
    "        else:\n",
    "            if i == 0:\n",
    "                print(f'{float(poly[i])} x^{n - 1 - i} ', end='')\n",
    "            else:\n",
    "                print(f' + {float(poly[i])} x^{n - 1 - i} ', end='')\n",
    "    print('\\n')"
   ]
  },
  {
   "cell_type": "code",
   "execution_count": 39,
   "metadata": {},
   "outputs": [
    {
     "name": "stdout",
     "output_type": "stream",
     "text": [
      "[3.22961248]\n",
      "-174092825629.05542 x^20  + 1375725084206.9255 x^19  - 4920774161496.523 x^18  + 10514302257612.463 x^17  - 14900608121723.393 x^16  + 14674713737963.984 x^15  - 10190945297784.117 x^14  + 4914046621932.414 x^13  - 1534575020181.5918 x^12  + 232489321349.38397 x^11  + 27190116517.76417 x^10  - 21304718508.953316 x^9  + 4001164919.563696 x^8  - 103081691.48549777 x^7  - 75528154.92671262 x^6  + 10673703.377780683 x^5  - 167572.29708132157 x^4  - 58704.50098230176 x^3  + 3245.479467311005 x^2  - 0.6898106348162606 x^1  + 3.229612476267544\n",
      "\n"
     ]
    }
   ],
   "source": [
    "# ╰( ͡° ͜ʖ ͡° )つ──☆*:・ﾟ\n",
    "#Кажется подошел бы многочлен 20 степени, мы бы интерполировали многочлен и подогнали бы вообще все\n",
    "#точки и сделали бы квадратичную ошибку равной нулю.\n",
    "\n",
    "#Решим через матрицу Вандермонда.\n",
    "\n",
    "V = np.vander(X_train[:,0], n)\n",
    "max_poly = np.linalg.solve(V, y_train)\n",
    "print(max_poly[-1])\n",
    "poly_printer(max_poly)"
   ]
  },
  {
   "cell_type": "markdown",
   "metadata": {},
   "source": [
    "**4. [0.1 балла]** Нарисуйте его график на одном чертеже вместе с точками $(x_i, y_i)$ из обеих выборок."
   ]
  },
  {
   "cell_type": "code",
   "execution_count": 40,
   "metadata": {},
   "outputs": [
    {
     "data": {
      "image/png": "[encoded data removed]",
      "text/plain": [
       "<Figure size 432x288 with 1 Axes>"
      ]
     },
     "metadata": {
      "needs_background": "light"
     },
     "output_type": "display_data"
    }
   ],
   "source": [
    "#╰( ͡° ͜ʖ ͡° )つ──☆*:・ﾟ\n",
    "x = np.linspace(-0.5, 1.5, 100)\n",
    "plt.plot(X_train, y_train, 'ro', label='train')\n",
    "plt.plot(X_test, y_test, 'ro', label='test', color = 'green')\n",
    "plt.plot(x, np.polyval(max_poly, x), label='poly')\n",
    "plt.xlabel('x')\n",
    "plt.ylabel('y')\n",
    "plt.legend()\n",
    "plt.ylim([min(y_train) - 1, max(y_train) + 0.5])\n",
    "plt.show()"
   ]
  },
  {
   "cell_type": "markdown",
   "metadata": {},
   "source": [
    "**5. [0.25 балла]** Для $k = 1,2,3,\\ldots,10$ найдите многочлен $\\hat{f}_k$ степени $k$, наилучшим образом приближающий неизвестную зависимость. Напечатайте найденные многочлены в виде $a_0 + a_1 x + \\ldots a_k x^k$."
   ]
  },
  {
   "cell_type": "code",
   "execution_count": 41,
   "metadata": {},
   "outputs": [
    {
     "name": "stdout",
     "output_type": "stream",
     "text": [
      "2.27913449805195 x^1  + 4.433230905064935\n",
      "\n",
      "1.4016285121152792 x^2  + 1.1578316883597197 x^1  + 4.472476503404163\n",
      "\n",
      "-0.38176860428879467 x^3  + 1.8597508372616085 x^2  + 1.0650161052851406 x^1  + 4.4607363552850865\n",
      "\n",
      "7.9184746973077225 x^4  - 13.051328119984632 x^3  + 6.7940917843564534 x^2  + 1.171802392631859 x^1  + 4.341166120399757\n",
      "\n",
      "29.524978041260386 x^5  - 51.131481385196125 x^4  + 21.374796276112193 x^3  + 3.2747144018439514 x^2  - 0.13059803987096474 x^1  + 4.431297813822736\n",
      "\n",
      "-229.9701334048807 x^6  + 581.4532982104781 x^5  - 481.51013285878776 x^4  + 121.2570971224784 x^3  + 16.002903990071648 x^2  - 4.597179324838304 x^1  + 4.383795011020691\n",
      "\n",
      "-167.38196472703544 x^7  + 238.699367853862 x^6  + 122.87821700433506 x^5  - 314.2311724517897 x^4  + 119.35078427214029 x^3  + 7.21545860217762 x^2  - 4.0088959121291365 x^1  + 4.444512709433318\n",
      "\n",
      "1729.477574092516 x^8  - 5701.7102004067365 x^7  + 6760.628474937948 x^6  - 3132.8563947987986 x^5  + 109.89566811928694 x^4  + 268.86044025845166 x^3  - 26.695631091139965 x^2  - 5.182773533301494 x^1  + 4.663789109574107\n",
      "\n",
      "903.2154340478373 x^9  - 1522.0980006795435 x^8  - 1216.4485773695633 x^7  + 3913.2683505398454 x^6  - 2441.962750222752 x^5  + 176.24540430431716 x^4  + 219.04204202033748 x^3  - 24.262716937599762 x^2  - 4.55270588197784 x^1  + 4.645883603154792\n",
      "\n",
      "-9818.64547051963 x^10  + 40177.80052833582 x^9  - 63621.42533329455 x^8  + 46686.9836262436 x^7  - 12970.05259207188 x^6  - 1660.817876165962 x^5  + 1201.9598840049994 x^4  + 44.934216239452326 x^3  - 36.175453481489114 x^2  - 2.1598145872622503 x^1  + 4.669172564858622\n",
      "\n"
     ]
    }
   ],
   "source": [
    "#╰( ͡° ͜ʖ ͡° )つ──☆*:・ﾟ\n",
    "polys = [0] * 10\n",
    "X = X_train[:,0]\n",
    "for i in range(10):\n",
    "    V = np.vander(X, i + 2)\n",
    "    VT = np.transpose(V)\n",
    "    polys[i] = np.linalg.inv(VT @ V) @ VT @ y_train\n",
    "    poly_printer(polys[i])"
   ]
  },
  {
   "cell_type": "markdown",
   "metadata": {},
   "source": [
    "**6. [1 балл]** Для каждого из них найдите среднеквадратическую ошибку на обучающих данных и на тестовых данных: $\\frac1{n}\\sum_{i=1}^n\\left( \\hat{f}_k(x_i) - y_i \\right)^2$ (в первом случае сумма ведётся по парам $(x_i, y_i)$ из обучающих данных, а во втором — по парам из тестовых данных)."
   ]
  },
  {
   "cell_type": "code",
   "execution_count": 42,
   "metadata": {},
   "outputs": [
    {
     "name": "stdout",
     "output_type": "stream",
     "text": [
      "k = 1\n",
      " Train mean error: 0.2968966332625195 \t Test mean error: 0.43512020040488836\n",
      "\n",
      "k = 2\n",
      " Train mean error: 0.26969891587669137 \t Test mean error: 0.3564762887831212\n",
      "\n",
      "k = 3\n",
      " Train mean error: 0.269497187147961 \t Test mean error: 0.3553464571518431\n",
      "\n",
      "k = 4\n",
      " Train mean error: 0.2610665330579276 \t Test mean error: 0.44172701892785515\n",
      "\n",
      "k = 5\n",
      " Train mean error: 0.2499850464831752 \t Test mean error: 0.557973202169151\n",
      "\n",
      "k = 6\n",
      " Train mean error: 0.18829348988370265 \t Test mean error: 2.581692932674632\n",
      "\n",
      "k = 7\n",
      " Train mean error: 0.1853962115329451 \t Test mean error: 2.5157828932812425\n",
      "\n",
      "k = 8\n",
      " Train mean error: 0.1590555657909054 \t Test mean error: 4.357288493700302\n",
      "\n",
      "k = 9\n",
      " Train mean error: 0.158471842750049 \t Test mean error: 4.776352376966348\n",
      "\n",
      "k = 10\n",
      " Train mean error: 0.15316611031437025 \t Test mean error: 14.63256246345206\n",
      "\n"
     ]
    }
   ],
   "source": [
    "#╰( ͡° ͜ʖ ͡° )つ──☆*:・ﾟ\n",
    "for i in range(len(polys)):\n",
    "    poly = polys[i]\n",
    "    mean_train = float(sum((np.polyval(poly, X_train) - y_train)**2)/len(y_train))\n",
    "    mean_test = sum((np.polyval(poly, X_test) - y_test)**2)/len(y_test)\n",
    "    print(f'k = {i + 1}\\n Train mean error: {mean_train} \\t Test mean error: {mean_test}\\n')"
   ]
  },
  {
   "cell_type": "markdown",
   "metadata": {},
   "source": [
    "**7. [0.75 балла]** Для $k = 1,2,3,4,6$ нарисуйте графики полученных многочленов на одном чертеже вместе с точками $(x_i, y_i)$ из обеих выборок (возможно, график стоит сделать побольше; это делается командой `plt.figure(figsize=(width, height))`)."
   ]
  },
  {
   "cell_type": "code",
   "execution_count": 43,
   "metadata": {},
   "outputs": [
    {
     "data": {
      "image/png": "[encoded data removed]",
      "text/plain": [
       "<Figure size 720x720 with 1 Axes>"
      ]
     },
     "metadata": {
      "needs_background": "light"
     },
     "output_type": "display_data"
    }
   ],
   "source": [
    "#╰( ͡° ͜ʖ ͡° )つ──☆*:・ﾟ\n",
    "plt.figure(figsize=(10, 10))\n",
    "x = np.linspace(-0.5, 1.5, 1000)\n",
    "plt.plot(X_train, y_train, 'ro', label='train')\n",
    "plt.plot(X_test, y_test, 'ro', label='test', color = 'green')\n",
    "for i in range(6):\n",
    "    plt.plot(x, np.polyval(polys[i], x), label=f'poly {i + 1}')\n",
    "#plt.plot(x, np.polyval(polys[8], x), label=f'poly {9}')\n",
    "#plt.plot(x, np.polyval(polys[8], x), label=f'poly {9}')\n",
    "#plt.plot(x, np.polyval(polys[9], x), label=f'poly {10}')\n",
    "plt.xlabel('x')\n",
    "plt.ylabel('y')\n",
    "plt.legend()\n",
    "plt.ylim([2, 7])\n",
    "plt.show()"
   ]
  },
  {
   "cell_type": "markdown",
   "metadata": {},
   "source": [
    "**8. [0.5 балла]** Что происходит с ошибкой при росте степени многочлена? Казалось бы, чем больше степень, тем более сложным будет многочлен и тем лучше он будет приближать нашу функцию. Подтверждают ли это ваши наблюдения? Как вам кажется, чем объясняется поведение ошибки на тестовых данных при $k = 10$? Как называется наблюдаемый Вами эффект?"
   ]
  },
  {
   "cell_type": "markdown",
   "metadata": {},
   "source": [
    "╰( ͡° ͜ʖ ͡° )つ──☆*:・ﾟ\n",
    "\n",
    "Начиная с какого-то момента наша модель начинает переобучаться, иначе говоря слишком сильно подгоняться под точки тестовой выборки, стремясь к интерполяционному многочлену, мы этого не хотим, так как это дает точный подгон на тренировочной выборке, но очень сильные колебания вне ее. При k = 10 это становится уже сильно заметно с низкой ошибкой на тренировочной выборке, но очень большой на тестовой."
   ]
  },
  {
   "cell_type": "markdown",
   "metadata": {},
   "source": [
    "### Задание 2. Линейная регрессия (3.5 балла)"
   ]
  },
  {
   "cell_type": "markdown",
   "metadata": {},
   "source": [
    "Скачайте файлы ``flats_moscow_mod.txt`` и ``flats_moscow_description.txt``. В первом из них содержатся данные о квартирах в Москве. Каждая строка содержит шесть характеристик некоторой квартиры, разделённые знаками табуляции; в первой строке записаны кодовые названия характеристик. Во втором файле приведены краткие описания признаков."
   ]
  },
  {
   "cell_type": "markdown",
   "metadata": {},
   "source": [
    "**0. [0 баллов]** Разделите выборку на обучающую и тестовую. Делать это лучше случайным образом (ведь вы не знаете, как создатели датасета упорядочили объекты); рекомендуем вам для этого функцию `sklearn.model_selection.train_test_split` с параметром `test_size=0.3`. Не забудьте зафиксировать параметр `random_state`."
   ]
  },
  {
   "cell_type": "code",
   "execution_count": 44,
   "metadata": {},
   "outputs": [
    {
     "data": {
      "text/plain": [
       "array([[ 64. ,  42. ,   9. ,  17. ,  10. ],\n",
       "       [ 67. ,  41. ,   9. ,  12.5,  10. ],\n",
       "       [101. ,  51. ,  15. ,   7. ,   7. ],\n",
       "       ...,\n",
       "       [ 56. ,  39. ,   6. ,  11.5,  10. ],\n",
       "       [ 77. ,  50. ,   9. ,   6. ,  10. ],\n",
       "       [ 73. ,  51. ,   8. ,  10.5,   7. ]])"
      ]
     },
     "execution_count": 44,
     "metadata": {},
     "output_type": "execute_result"
    }
   ],
   "source": [
    "#╰( ͡° ͜ʖ ͡° )つ──☆*:・ﾟ\n",
    "from sklearn.model_selection import train_test_split\n",
    "\n",
    "data = np.loadtxt('flats_moscow_mod.txt', delimiter='\\t', skiprows=1)\n",
    "data = data[data[:, 0] < 700]\n",
    "X_data = data[:, 1:]\n",
    "y_data = data[:, 0]\n",
    "X_train, X_test, y_train, y_test = train_test_split(X_data, y_data, test_size = 0.3, random_state = 45)\n",
    "X_data"
   ]
  },
  {
   "cell_type": "markdown",
   "metadata": {},
   "source": [
    "**1. [0.5 балла]** Вашей задачей будет построить с помощью метода наименьших квадратов (линейную) зависимость между ценой квартиры и остальными доступными параметрами. С помощью известных Вам формул найдите регрессионные коэффициенты. Выпишите построенную модель."
   ]
  },
  {
   "cell_type": "code",
   "execution_count": 45,
   "metadata": {},
   "outputs": [
    {
     "data": {
      "text/plain": [
       "747.5156554653432"
      ]
     },
     "execution_count": 45,
     "metadata": {},
     "output_type": "execute_result"
    }
   ],
   "source": [
    "#╰( ͡° ͜ʖ ͡° )つ──☆*:・ﾟ\n",
    "n = len(X_train)\n",
    "A = np.concatenate((X_train, np.ones((n, 1))), axis = 1)\n",
    "AT = np.transpose(A)\n",
    "reg_c = np.linalg.inv(AT @ A) @ AT @ y_train\n",
    "np.mean((A @ reg_c - y_train)**2)"
   ]
  },
  {
   "cell_type": "code",
   "execution_count": 46,
   "metadata": {},
   "outputs": [
    {
     "data": {
      "text/plain": [
       "array([  1.57042092,   1.18650432,   1.69634061,  -3.19117579,\n",
       "        -1.54592123, -10.33968963])"
      ]
     },
     "execution_count": 46,
     "metadata": {},
     "output_type": "execute_result"
    }
   ],
   "source": [
    "reg_c"
   ]
  },
  {
   "cell_type": "markdown",
   "metadata": {},
   "source": [
    "**2. [0.25 балла]** Какой смысл имеют их знаки? Согласуются ли они с вашими представлениями о жизни?"
   ]
  },
  {
   "cell_type": "markdown",
   "metadata": {},
   "source": [
    "╰( ͡° ͜ʖ ͡° )つ──☆*:・ﾟ"
   ]
  },
  {
   "cell_type": "markdown",
   "metadata": {},
   "source": [
    "**3. [0.25 балла]** Оцените качество приближения, вычислив среднеквадратическую ошибку на тестовой выборке."
   ]
  },
  {
   "cell_type": "code",
   "execution_count": 47,
   "metadata": {},
   "outputs": [
    {
     "data": {
      "text/plain": [
       "907.9896860079809"
      ]
     },
     "execution_count": 47,
     "metadata": {},
     "output_type": "execute_result"
    }
   ],
   "source": [
    "#╰( ͡° ͜ʖ ͡° )つ──☆*:・ﾟ\n",
    "B = np.concatenate((X_test, np.ones((len(X_test), 1))), axis = 1)\n",
    "np.mean((B @ reg_c - y_test)**2)"
   ]
  },
  {
   "cell_type": "markdown",
   "metadata": {
    "collapsed": true
   },
   "source": [
    "### Усложнение модели"
   ]
  },
  {
   "cell_type": "markdown",
   "metadata": {},
   "source": [
    "Конечно, никто не гарантирует, что объясняемая переменная (цена квартиры) зависит от остальных характеристик именно линейно. Зависимость может быть, например, квадратичной или логарифмической; больше того, могут быть важны не только отдельные признаки, но и их комбинации. Это можно учитывать, добавляя в качестве дополнительных признаков разные функции от уже имеющихся характеристик: их квадраты, логарифмы, попарные произведения."
   ]
  },
  {
   "cell_type": "markdown",
   "metadata": {},
   "source": [
    "В этом задании Вам нужно постараться улучшить качество модели, добавляя дополнительные признаки, являющиеся функциями от уже имеющихся. Но будьте осторожны: чрезмерное усложнение модели будет приводить к переобучению."
   ]
  },
  {
   "cell_type": "markdown",
   "metadata": {},
   "source": [
    "**4. [0.25 балла]** Опишите признаки, которые Вы решили добавить. Объясните, чем был мотивирован выбор именно этих признаков."
   ]
  },
  {
   "cell_type": "markdown",
   "metadata": {},
   "source": [
    "╰( ͡° ͜ʖ ͡° )つ──☆*:・ﾟ"
   ]
  },
  {
   "cell_type": "markdown",
   "metadata": {},
   "source": [
    "**5. [2 балла]** Постройте с помощью метода наименьших квадратов (линейную) зависимость между ценой квартиры и новыми признаками. С помощью известных Вам формул найдите регрессионные коэффициенты. Выпишите построенную модель."
   ]
  },
  {
   "cell_type": "code",
   "execution_count": 48,
   "metadata": {},
   "outputs": [
    {
     "data": {
      "image/png": "[encoded data removed]",
      "text/plain": [
       "<Figure size 432x288 with 1 Axes>"
      ]
     },
     "metadata": {
      "needs_background": "light"
     },
     "output_type": "display_data"
    }
   ],
   "source": [
    "plt.figure()\n",
    "plt.plot(X_data[:, 0:1], y_data, 'ro', label='totsp')\n",
    "plt.legend()\n",
    "plt.show()"
   ]
  },
  {
   "cell_type": "code",
   "execution_count": 49,
   "metadata": {},
   "outputs": [
    {
     "data": {
      "image/png": "[encoded data removed]",
      "text/plain": [
       "<Figure size 432x288 with 1 Axes>"
      ]
     },
     "metadata": {
      "needs_background": "light"
     },
     "output_type": "display_data"
    }
   ],
   "source": [
    "plt.figure()\n",
    "plt.plot(X_data[:, 1:2], y_data, 'ro', label='livesp', color='green')\n",
    "plt.legend()\n",
    "plt.show()"
   ]
  },
  {
   "cell_type": "code",
   "execution_count": 50,
   "metadata": {},
   "outputs": [
    {
     "data": {
      "image/png": "[encoded data removed]",
      "text/plain": [
       "<Figure size 432x288 with 1 Axes>"
      ]
     },
     "metadata": {
      "needs_background": "light"
     },
     "output_type": "display_data"
    }
   ],
   "source": [
    "plt.figure()\n",
    "plt.plot(X_data[:, 2:3], y_data, 'ro', label='kitsp', color='blue')\n",
    "plt.legend()\n",
    "plt.show()"
   ]
  },
  {
   "cell_type": "code",
   "execution_count": 51,
   "metadata": {},
   "outputs": [
    {
     "data": {
      "image/png": "[encoded data removed]",
      "text/plain": [
       "<Figure size 432x288 with 1 Axes>"
      ]
     },
     "metadata": {
      "needs_background": "light"
     },
     "output_type": "display_data"
    }
   ],
   "source": [
    "plt.figure()\n",
    "plt.plot(X_data[:, 4:5], y_data, 'ro', label='metrdist', color='black')\n",
    "plt.legend()\n",
    "plt.show()"
   ]
  },
  {
   "cell_type": "code",
   "execution_count": 52,
   "metadata": {},
   "outputs": [
    {
     "data": {
      "image/png": "[encoded data removed]",
      "text/plain": [
       "<Figure size 432x288 with 1 Axes>"
      ]
     },
     "metadata": {
      "needs_background": "light"
     },
     "output_type": "display_data"
    }
   ],
   "source": [
    "plt.figure()\n",
    "plt.plot(X_data[:, 3:4], y_data, 'ro', label='dist', color='brown')\n",
    "plt.legend()\n",
    "plt.show()"
   ]
  },
  {
   "cell_type": "code",
   "execution_count": 53,
   "metadata": {},
   "outputs": [],
   "source": [
    "#data\n",
    "totsp = X_train[:, 0:1]\n",
    "livesp = X_train[:, 1:2]\n",
    "kitsp = X_train[:, 2:3]\n",
    "dist = X_train[:, 3:4]\n",
    "metrdist = X_train[:, 4:5]\n",
    "ones = np.ones((n, 1))"
   ]
  },
  {
   "cell_type": "code",
   "execution_count": 54,
   "metadata": {},
   "outputs": [
    {
     "data": {
      "text/plain": [
       "684.6254636822352"
      ]
     },
     "execution_count": 54,
     "metadata": {},
     "output_type": "execute_result"
    }
   ],
   "source": [
    "#╰( ͡° ͜ʖ ͡° )つ──☆*:・ﾟ\n",
    "\n",
    "max_d = max(dist)\n",
    "\n",
    "new_A = np.concatenate((\n",
    "                        X_train,\n",
    "                        livesp * totsp,\n",
    "                        dist**2,\n",
    "                        (max_d - dist) * livesp,\n",
    "                        ones), axis = 1)\n",
    "new_AT = np.transpose(new_A)\n",
    "reg_c = np.linalg.inv(new_AT @ new_A) @ new_AT @ y_train\n",
    "np.mean((new_A @ reg_c - y_train)**2)"
   ]
  },
  {
   "cell_type": "markdown",
   "metadata": {},
   "source": [
    "**6. [0.25 балла]** Оцените качество приближения, вычислив среднеквадратическую ошибку на тестовой выборке."
   ]
  },
  {
   "cell_type": "code",
   "execution_count": 55,
   "metadata": {},
   "outputs": [],
   "source": [
    "t_totsp = X_test[:, 0:1]\n",
    "t_livesp = X_test[:, 1:2]\n",
    "t_kitsp = X_test[:, 2:3]\n",
    "t_dist = X_test[:, 3:4]\n",
    "t_metrdist = X_test[:, 4:5]\n",
    "t_ones = np.ones((len(X_test), 1))"
   ]
  },
  {
   "cell_type": "code",
   "execution_count": 56,
   "metadata": {},
   "outputs": [
    {
     "data": {
      "text/plain": [
       "802.6875379730046"
      ]
     },
     "execution_count": 56,
     "metadata": {},
     "output_type": "execute_result"
    }
   ],
   "source": [
    "#╰( ͡° ͜ʖ ͡° )つ──☆*:・ﾟ\n",
    "\n",
    "t_max_d = max(t_dist)\n",
    "\n",
    "B =  np.concatenate((X_test,\n",
    "                     t_livesp * t_totsp,\n",
    "                     t_dist**2,\n",
    "                     (t_max_d - t_dist) * t_livesp,\n",
    "                     t_ones), axis = 1)\n",
    "np.mean((B @ reg_c - y_test)**2)"
   ]
  },
  {
   "cell_type": "markdown",
   "metadata": {},
   "source": [
    "### Задание 3. Регуляризация (3.5 балла)"
   ]
  },
  {
   "cell_type": "markdown",
   "metadata": {},
   "source": [
    "Вспомним, что задача линейной регрессии формулируется как задача нахождения проекции вектора значений объясняемой переменной $y$ на линейную оболочку $\\langle x_1,\\ldots,x_k\\rangle$ векторов значений регрессоров. Если векторы $x_1,\\ldots,x_k$ линейно зависимы, то матрица $X^TX$ вырожденна и задача не будет решаться с помощью приведённой выше формулы. В жизни, по счастью, различные признаки редко бывают *в точности* линейно зависимы, однако во многих ситуациях они скоррелированы и становятся \"почти\" линейно зависимыми. Таковы, к примеру, зарплата человека, его уровень образования, цена машины и суммарная площадь недвижимости, которой он владеет. В этом случае матрица $X^TX$ будет близка к вырожденной, и это приводит к численной неустойчивости и плохому качеству решений; как следствие, будет иметь место переобучение. Один из симптомов этой проблемы — необычно большие по модулю компоненты вектора $a$.\n",
    "\n",
    "Есть много способов борьбы с этим злом. Один из них - регуляризация. Сейчас мы рассмотрим одну из её разновидностей — **L2-регуляризацию**. Идея в том, чтобы подправить матрицу $X^TX$, сделав её \"получше\". Например, это можно сделать, заменив её на $(X^TX + \\lambda E)$, где $\\lambda > 0$ — некоторый скаляр. Пожертвовав точностью на обучающей выборке, мы тем не менее получаем численно более стабильное псевдорешение $a = (X^TX + \\lambda E)^{-1}X^Ty$ и снижаем эффект переобучения. *Гиперпараметр* $\\lambda$ нужно подбирать, и каких-то универсальных способов это делать нет, но зачастую можно его подобрать таким, чтобы ошибка на тестовой выборке падала.\n",
    "\n",
    "Однако есть некоторые правила, которых стоит придерживаться при подборе коэффициента регуляризации. Обычно в такой ситуации всю выборку делят на три части: обучающую, *валидационную* и тестовую. Сначала по валидационной подбирают значение гиперпараметра, потом по обучающей строят модель, а по тестовой оценивают её итоговое качество. Кроме того, подбирать $\\lambda$ нужно по логарифметической сетке, чтобы узнать оптимальный порядок величины."
   ]
  },
  {
   "cell_type": "markdown",
   "metadata": {},
   "source": [
    "**1. [0.25 балла]** Почему не стоит подбирать коэффициент регуляризации по обучающей выборке? По тестовой выборке?"
   ]
  },
  {
   "cell_type": "markdown",
   "metadata": {},
   "source": [
    "╰( ͡° ͜ʖ ͡° )つ──☆*:・ﾟ\n",
    "\n",
    "Если мы будем "
   ]
  },
  {
   "cell_type": "markdown",
   "metadata": {},
   "source": [
    "**2. [0 баллов]** Теперь давайте вспомним первую задачу. Если Вы её сделали, то помните, что ошибка аппроксимации многочленом шестой степени довольно высокая. Попытаемся использовать регуляризацию при построении модели. Поделите обучающую выборку из первой задачи на две части, одну из которых объявите обучающей, а другую — валидационной (будьте осторожны при выборе `train_size`, в этой выборке не так много данных)."
   ]
  },
  {
   "cell_type": "code",
   "execution_count": 57,
   "metadata": {},
   "outputs": [
    {
     "data": {
      "text/plain": [
       "(16, 5)"
      ]
     },
     "execution_count": 57,
     "metadata": {},
     "output_type": "execute_result"
    }
   ],
   "source": [
    "#╰( ͡° ͜ʖ ͡° )つ──☆*:・ﾟ\n",
    "X_train, X_valid, y_train, y_valid = train_test_split(data_train[:,0:1], \n",
    "                                                      data_train[:,1:2], test_size = 0.2, random_state = 40)\n",
    "X_test = data_test[:, 0]\n",
    "y_test = data_test[:, 1]\n",
    "len(X_train), len(X_valid)"
   ]
  },
  {
   "cell_type": "markdown",
   "metadata": {},
   "source": [
    "**3. [0.75 балла]** Убедитесь, что, используя регуляризацию с хорошо подобранным коэффициентом $\\lambda$, ошибку на тестовой выборке можно сделать не больше, чем для многочлена оптимальной степени в модели без регуляризации."
   ]
  },
  {
   "cell_type": "code",
   "execution_count": 58,
   "metadata": {},
   "outputs": [
    {
     "name": "stdout",
     "output_type": "stream",
     "text": [
      "0.35282264821973264 4.089132382917182\n"
     ]
    }
   ],
   "source": [
    "#╰( ͡° ͜ʖ ͡° )つ──☆*:・ﾟ\n",
    "\n",
    "la = 2**(-20)\n",
    "error = 10**15\n",
    "\n",
    "V = np.vander(X_train[:,0], 7)\n",
    "V1 = np.vander(X_valid[:,0], 7)\n",
    "err_min = 10000\n",
    "la_min = 0\n",
    "for i in range(50):\n",
    "    poly = np.linalg.inv(V.T @ V + la * np.eye(7, 7)) @ V.T @ y_train\n",
    "    err = np.mean((np.polyval(poly, X_valid) - y_valid)**2)\n",
    "    if (err < err_min) : \n",
    "        err_min = err\n",
    "        la_min = la\n",
    "    #print(err)\n",
    "    la *= 2\n",
    "\n",
    "poly_opt = np.linalg.inv(V.T @ V + la_min * np.eye(7, 7)) @ V.T @ y_train\n",
    "poly1 = np.linalg.inv(V.T @ V) @ V.T @ y_train\n",
    "print(\n",
    "    np.mean((np.polyval(poly_opt, X_test) - y_test)**2), \n",
    "    np.mean((np.polyval(poly1, X_test) - y_test)**2)\n",
    ")"
   ]
  },
  {
   "cell_type": "markdown",
   "metadata": {},
   "source": [
    "**4. [0.25 балла]** Для этого $\\lambda$ сравните $\\det(X^TX)$ и $\\det(X^TX + \\lambda E)$. Чем можно объяснить такой результат?"
   ]
  },
  {
   "cell_type": "markdown",
   "metadata": {},
   "source": [
    "╰( ͡° ͜ʖ ͡° )つ──☆*:・ﾟ Можно заметить, что во втором случае определитель практически нулевой, это означает, что матрица $X^TX$ практически вырожденная, в то же время при регуляризации нам удалось сделать определитель больше, так как теперь наши столбцы стали менее похожи на линейно зависимые, чтобы добиться линейной зависимости их стоит изменять сильнее, чем ранее.\n",
    "\n",
    "В частности это же означает, что коэффициенты в обратной к $X^TX$ матрице больше, так как элементарными преобразованиями строк мы можем создать практически нулевую строку, и тогда в алгоритме поиска обр. матрицы методом Гаусса придется умножать на большой коэффициент.\n",
    "\n",
    "В итоге $(X^TX + \\lambda E)^{-1}$ выдает решения с меньшими коэффициентами, что выгодно для нас"
   ]
  },
  {
   "cell_type": "code",
   "execution_count": 59,
   "metadata": {},
   "outputs": [
    {
     "name": "stdout",
     "output_type": "stream",
     "text": [
      "2.2325252117956873e-13 0.35489252986971426\n"
     ]
    }
   ],
   "source": [
    "print(np.linalg.det(V.T @ V), np.linalg.det(V.T @ V + np.eye(7, 7) * la_min))\n"
   ]
  },
  {
   "cell_type": "markdown",
   "metadata": {},
   "source": [
    "**5. [0.25 балла]** Нарисуйте на одном чертеже графики многочленов шестой степени, приближающих неизвестную функцию, для модели с регуляризацией и без."
   ]
  },
  {
   "cell_type": "code",
   "execution_count": 60,
   "metadata": {},
   "outputs": [
    {
     "data": {
      "text/plain": [
       "<matplotlib.legend.Legend at 0x7f888dd2bf70>"
      ]
     },
     "execution_count": 60,
     "metadata": {},
     "output_type": "execute_result"
    },
    {
     "data": {
      "image/png": "[encoded data removed]",
      "text/plain": [
       "<Figure size 720x720 with 1 Axes>"
      ]
     },
     "metadata": {
      "needs_background": "light"
     },
     "output_type": "display_data"
    }
   ],
   "source": [
    "#╰( ͡° ͜ʖ ͡° )つ──☆*:・ﾟ\n",
    "# I want old train, why not? \n",
    "X_train = data_train[:,0:1]\n",
    "y_train = data_train[:,1:2]\n",
    "plt.figure(figsize=(10, 10))\n",
    "x = np.linspace(-0.5, 1.5, 1000)\n",
    "plt.plot(X_train, y_train, 'ro', label='train')\n",
    "plt.plot(X_test, y_test, 'ro', label='test', color = 'green')\n",
    "plt.plot(x, np.polyval(poly_opt, x), label='L2-poly')\n",
    "plt.plot(x, np.polyval(polys[5], x), label='no-reg poly')\n",
    "plt.ylim([0, 10])\n",
    "plt.legend()"
   ]
  },
  {
   "cell_type": "markdown",
   "metadata": {},
   "source": [
    "**6. [0.25 балла]** Чем первый из них выгодно отличается от второго?"
   ]
  },
  {
   "cell_type": "markdown",
   "metadata": {},
   "source": [
    "╰( ͡° ͜ʖ ͡° )つ──☆*:・ﾟ Первый в отличие от второго не улетает быстро в бесконечность вне диапозона тестовых данных, а так же он более ровно предсказывает зависимость, в отличие от многочлена без регуляризации, который сильно подгоняет под ответ."
   ]
  },
  {
   "cell_type": "markdown",
   "metadata": {},
   "source": [
    "**7. [0.75 балла]** Пусть заданы $X\\in \\text{Mat}_{n \\times k}(\\mathbb{R})$, $\\lambda \\geqslant 0$, а также известно, что $\\text{rk}~X = k \\leqslant n$. Решите следующую задачу оптимизации:\n",
    "$$|Xa - y|^2 + \\lambda|a|^2\\rightarrow\\min\\limits_{a \\in \\mathbb{R}^k}.$$"
   ]
  },
  {
   "cell_type": "markdown",
   "metadata": {},
   "source": [
    "╰( ͡° ͜ʖ ͡° )つ──☆*:・ﾟ\n",
    "\n",
    "Возьмем частную производную.\n",
    "\n",
    "$F(a) = \\left|(X_1 |...|X_k) \\left( \\begin{array}{c} a_1\\\\ \\vdots \\\\ a_k\\end{array}\\right) - y \\right|^2 + \\lambda\n",
    "\\left(\\sum_{j = 1}^n a_j^2 \\right) = \n",
    "\\left| X_1 a_1 + ... + X_k a_k - y \\right|^2 + \\lambda\n",
    "\\left(\\sum_{j = 1}^n a_j^2 \\right) = \n",
    "\\sum_{j = 1}^n \\left(x_{j1} a_1 + ... + x_{jk} a_k - y_j \\right)^2 +  \\lambda\n",
    "\\left(\\sum_{j = 1}^n a_j^2 \\right) $\n"
   ]
  },
  {
   "cell_type": "markdown",
   "metadata": {},
   "source": [
    "$\\frac{\\partial F}{\\partial a_i} = \\sum_{j = 1}^n 2 x_{ji}  \\left(x_{j1} a_1 + ... + x_{jk} a_k - y_j \\right) + 2\\lambda a_i = \n",
    "2 \\sum_{j = 1}^n\\left( x_{ji} \\left(x_{j1}, ..., x_{jk}\\right) \\left( \\begin{array}{c} a_1\\\\ \\vdots \\\\ a_k\\end{array}\\right) - x_{ji} y_j   \\right) + 2\\lambda a_i = \n",
    "2 \\left(x_{1i}, ... , x_{ni}\\right) (X a - y) + 2 \\lambda a_i\n",
    "$"
   ]
  },
  {
   "cell_type": "markdown",
   "metadata": {},
   "source": [
    "Приравняем все частные производные к нулю и запишем все равенства в матричном виде от $a_1$ до $a_k$ и получим: \n",
    "\n",
    "$X^T(Xa-y) + \\lambda a = X^T X a - X^T y + \\lambda a = 0$ Теперь:\n",
    "\n",
    "$\\left(X^T X + \\lambda E\\right) a = X^T y, \\quad a = \\left(X^T X + \\lambda E \\right)^{-1} X^T y$"
   ]
  },
  {
   "cell_type": "markdown",
   "metadata": {},
   "source": [
    "А теперь погнали считать матрицу Гессе.\n",
    "\n",
    "$X^{(i)}$ -- $i$-ый столбец\n",
    "\n",
    "$ \\frac{\\partial^2 F}{\\partial a_i^2} = \\sum_{j = 1}^n 2 x_{ji}^2 + 2 \\lambda = 2 (X^{(i)})^T (X^{(i)}) + 2 \\lambda$\n",
    "\n",
    "$\\frac{\\partial^2 F}{\\partial a_i \\partial a_l} = 2 \\sum_{j = 1} x_{ji} x_{jk} = 2 (X^{(i)})^T (X^{(k)})$\n",
    "\n",
    "Получили скалярные произведения!\n",
    "\n",
    "В итоге наша матрица Гессе это удвоенная матрица Грама $G$ над слобцами матрицы $X$ к которой прибавили $2 \\lambda E$, эта матрица положительно определена, покажем это. \n",
    "\n",
    "$2 y^T (G + \\lambda E) y = 2 \\left(y^T G y + \\lambda y^T y\\right) > 0$ при $\\lambda \\geq 0$ и $y \\ne 0$ и невырожденной матрицы $X$.\n",
    "\n",
    "Тогда наша матрица Гессе положительно определена, что дает нам минимум в выведенной точке: $a = \\left(X^T X + \\lambda E \\right)^{-1} X^T y$"
   ]
  },
  {
   "cell_type": "markdown",
   "metadata": {},
   "source": [
    "Интуитивно это можно понимать так: мы ищем компромисс между минимизацией длины разности $|Xa - y|$ (то есть точностью решения задачи регрессии) и тем, чтобы компоненты вектора $a$ не становились слишком большими по модулю."
   ]
  },
  {
   "cell_type": "markdown",
   "metadata": {},
   "source": [
    "**8. [0.25 балла]** Почему регуляризовать (штрафовать за слишком большую абсолютную величину) коэффициент при константном признаке (который состоит из одних единиц) — плохая идея?"
   ]
  },
  {
   "cell_type": "markdown",
   "metadata": {},
   "source": [
    "╰( ͡° ͜ʖ ͡° )つ──☆*:・ﾟ\n",
    "\n",
    "Константный признак как бы содержит в себе некоторый сдвиг в единицах измерения, которые мы используем, так как многие единицы измерения начинаются не с нуля, а с достаточно больших величин, допустим мы обрабатываем некоторые физические данные, где температура измеряется в кельвинах (сдвиг на один градус эквивалентен сдвигу в обычных градусах Цельсия, но 0 градусов в кельвинах это абсолютный ноль), тогда 0 градусов цельсия это более 300 кельвинов. Хотим ли мы штрафовать нашу модель за то, что она учитывает этот сдвиг в данных, пожалуй, нет, так как этот сдвиг, наоборот понижает коэффициенты при неконстантных параметрах и компенсирует сдвиг от нуля в единицах измерения."
   ]
  },
  {
   "cell_type": "markdown",
   "metadata": {},
   "source": [
    "**9. [0.5 балла]** Пусть теперь $\\text{rk}~X < k$. Всегда ли в этом случае существует решение? Если существует, то является ли оно единственным? Ответ обоснуйте."
   ]
  },
  {
   "cell_type": "markdown",
   "metadata": {},
   "source": [
    "╰( ͡° ͜ʖ ͡° )つ──☆*:・ﾟ\n",
    "Заметим что в случае $\\lambda > 0$ наша форма имеет единственную точку, где все частные производные равны нулю, так как матрица $(G + \\lambda E)$ в таком случае положительно определена, а значит все ее собственные вектора положительные. Таким образом, единственно возможная ситуация, где у нас может быть более чем одно или ни одного решения это $\\lambda = 0$, таким образом вернемся в системе: \n",
    "$X^T X a = X^T y$ мы можем решить ее обычным методом Гаусса и это нам даст есть решения или нет, причем матрица $X^T X$ вырождена в силу того, что $rk X < k$, тогда в зависимости от того, лежит ли $X^Ty$ в линейной оболочке $X^T X$ или же нет. Если лежит, то у нас есть целое аффинное пространство точек, в которые являются решением нашей системы. Докажем, что любое решение системы $X^TX a = X^Ty$, является минимумом искомой системы. $Xa$ есть некоторый вектор в $\\left<X\\right>$ тогда, минимум будет достигаться, когда $Xa - y = -\\text{ort}_{<X>}(y)$, иначе говоря $Xa = \\text{pr}_{<X>}(y)$ такой вектор $a$ точно найдется, так как столбики $X$ это порождающая система $\\left<X\\right>$, назовем это решение: $a'$, докажем, что $a'$ является решением системы, дающей потанциальные минимумы.\n",
    "\n",
    "$X^TXa' = X^T \\text{pr}_{<X>}(y) = X^T \\left(\\text{pr}_{<X>}(y) +\\text{ort}_{<X>}(y)  \\right) = X^T y$\n",
    "\n",
    "Таким образом любое решение системы: $X^T X a = X^T y$, имеет вид $a' + b$, где $X^TXb = 0$, теперь покажем следующее, \n",
    "если $X^TXb = 0$, то $Xb = 0$, действительно $Xb \\in \\left<X\\right>$, при этом так как $X^T(Xb) = 0$, то $Xb \\in \\left<X\\right>^\\bot$, но $\\left<X\\right> \\cap \\left<X\\right>^\\bot = 0$, то $Xb = 0$. Таким образом для любого решения системы верно, что $Xa - y = X(a' + b) - y = - \\text{ort}_{\\left<X\\right>}(y)$, следовательно все ок.\n"
   ]
  },
  {
   "cell_type": "markdown",
   "metadata": {},
   "source": [
    "**10. [0.25 балла]** Покажите, что если решений бесконечно много, то среди них обязательно найдутся решения со сколь угодно большими по модулю компоненты вектора $a$. Почему большие веса в линейной модели — плохо?"
   ]
  },
  {
   "cell_type": "markdown",
   "metadata": {},
   "source": [
    "╰( ͡° ͜ʖ ͡° )つ──☆*:・ﾟ\n",
    "Если решений бесконечное количество, то как я показал выше, $\\lambda = 0$ и любое решение это $a = a' + b$, где $Xa' = \\text{pr}_{\\left<X\\right>}(y)$, а $Xb = 0$, тогда если решений бесконечно много, то множество решений $Xb = 0$ ненулевое и тогда, мы можем взять какое-то ненулевое решение с произвольным скаляром и сделать какие-то из компонент решения $a$  сколь угодно большим по модулю.\n",
    "\n",
    "Несмотря на то, что наша система с большими весами аппроксимирует тренировочную выборку ни чуть не хуже, чем с малыми (если мы решаем ее правильно и она является решением системы $X^T X a = X^T y$), но при малых сдвигах в данных она будет давать намного более сильные погрешности, чем модели с меньшими линейными коэффициентами, что плохо для линейной регрессии. Так же вне диапозона данных тренировочной выборки она скорее всего будет давать какие-то огромные ошибки, как мы могли видеть выше на многочлене."
   ]
  },
  {
   "cell_type": "markdown",
   "metadata": {},
   "source": [
    "### Задание 4. Онлайн-обучение линейной регрессии (3 балла)"
   ]
  },
  {
   "cell_type": "markdown",
   "metadata": {},
   "source": [
    "Раньше мы работали в ситуации, когда объекты $x_i$ и значения $y_i$ даны с самого начала и всегда доступны. Допустим теперь, что пары $(x_i, y_i)$ поступают к нам по одной, и мы не можем себе позволить хранить их все в памяти (это может быть актуально, например, если Вы пытаетесь обучить модель на устройстве со сравнительно небольшим количеством оперативной памяти: скажем, на мобильном телефоне или на бортовом компьютере спутника связи). В этом случае нам нужно уметь решать следующую задачу:\n",
    "\n",
    "**Известно:** решение задачи регрессии для датасета $(x_1, y_1),\\ldots,(x_t,y_t)$;\n",
    "\n",
    "**На вход поступает:** новая пара $(x_{t+1}, y_{t+1})$;\n",
    "\n",
    "**Требуется:** быстро (за время, не зависящее от $t$) отыскать решение задачи регрессии для расширенного датасета $(x_1, y_1),\\ldots,(x_t,y_t),(x_{t+1}, y_{t+1})$."
   ]
  },
  {
   "cell_type": "markdown",
   "metadata": {},
   "source": [
    "Обозначим $X_{(t)} = (x_1\\ldots x_t)^T$ и $y_{(t)} = (y_1,\\ldots,y_t)^T$. Тогда, как мы хорошо помним, решение задачи регрессии для датасета $(x_1, y_1),\\ldots,(x_t,y_t)$ имеет вид $\\hat{a}_{(t)} = \\left(X^T_{(t)}X_{(t)}\\right)^{-1}X^T_{(t)}y_{(t)}$. Размеры матриц $X^T_{(t)}X_{(t)}$ и $X^T_{(t)}y_{(t)}$ не зависят от $t$, поэтому их мы, пожалуй, можем себе позволить хранить в памяти."
   ]
  },
  {
   "cell_type": "markdown",
   "metadata": {},
   "source": [
    "**1. [1 балл]** И вот Ваше первое задание в этом разделе: придумайте алгоритм, принимающий на вход матрицы $X^T_{(t)}X_{(t)}$ и $X^T_{(t)}y_{(t)}$, а также пару $(x_{t+1}, y_{t+1})$ и вычисляющий матрицы $X^T_{(t+1)}X_{(t+1)}$ и $X^T_{(t+1)}y_{(t+1)}$. Сложность вашего алгоритма не должна зависеть от $t$."
   ]
  },
  {
   "cell_type": "markdown",
   "metadata": {},
   "source": [
    "\n",
    "╰( ͡° ͜ʖ ͡° )つ──☆*:・ﾟ\n",
    "\n",
    "Воспользуемся блочными формулами и тогда: $X \\in M_{mn}(\\mathbb{R}), Y \\in  M_{nk}(\\mathbb{R}),\n",
    "    XY = \\sum_{i = 1}^n X^{(i)} Y_{(i)} $, где $X^{(i)}$ -- i-ый столбец, $Y_{(i)}$ -- i-ая строка. \n",
    "\n",
    "Пусть нам поступил набор некоторых строк $x_{(t+1)} \\in M_{k \\times n}(\\mathbb{R})$ и строка $y_{(t+1)} \\in M_{k, 1}(\\mathbb{R})$\n",
    "\n",
    "Тогда задача по добавлению новых данных решается так.\n",
    "\n",
    "$X^T_{(t+1)}X_{(t+1)} = X^T_{(t)}X_{(t)} + x^T_{t+1} x_{t+1}$ // O(kn + n^2) оценка совсем сверху, O(kn) умножение, O(n^2) сложение.\n",
    "\n",
    "$X^T_{(t+1)}y_{(t+1)} = X^T_{(t)}y_t + x^T_{t+1} y_{t+1} $ // O(kn + n) \n",
    "\n",
    "Все не зависит от t"
   ]
  },
  {
   "cell_type": "markdown",
   "metadata": {},
   "source": [
    "**2. [2 балла]** Теперь настало время написать немного кода и порисовать красивые картинки. Вам нужно будет реализовать симуляцию онлайн-обучения регрессии для задачи приближения функции (в данном случае $f_{true}(x) = 2x\\sin(5x) + x^2 - 1$; все значения искажены небольшим нормальным шумом) многочленом степени не выше 5."
   ]
  },
  {
   "cell_type": "code",
   "execution_count": 29,
   "metadata": {},
   "outputs": [
    {
     "data": {
      "image/png": "[encoded data removed]",
      "text/plain": [
       "<Figure size 432x288 with 1 Axes>"
      ]
     },
     "metadata": {
      "needs_background": "light"
     },
     "output_type": "display_data"
    },
    {
     "name": "stdout",
     "output_type": "stream",
     "text": [
      "[[-0.02756234]\n",
      " [ 0.13315   ]\n",
      " [ 0.04913614]\n",
      " [ 0.54295686]\n",
      " [-0.369088  ]\n",
      " [-0.53769935]]\n"
     ]
    }
   ],
   "source": [
    "from IPython.display import clear_output\n",
    "\n",
    "n = 5\n",
    "\n",
    "f_true = lambda x: 2*x*np.sin(5*x) + x**2 - 1 # this is the true function\n",
    "\n",
    "# We need this to make the plot of f_true:\n",
    "x_grid = np.linspace(-2,5,100) # 100 linearly spaced numbers\n",
    "x_grid_enl = np.hstack((x_grid.reshape((100,1))**j for j in range(6)))\n",
    "y_grid = f_true(x_grid)\n",
    "\n",
    "XTX = np.zeros((n + 1, n + 1))\n",
    "XTy = np.zeros((n + 1, 1))\n",
    "\n",
    "for i in range(500):\n",
    "\n",
    "    x_new = np.random.uniform(-2, 5)\n",
    "    y_new = f_true(x_new) + 2*np.random.randn()\n",
    "    \n",
    "    \n",
    "    X = np.vander(np.array([x_new]), n + 1)\n",
    "    \n",
    "    \n",
    "    XTX += X.T @ X\n",
    "    XTy += X.T * y_new\n",
    "    \n",
    "    \n",
    "    # the rest of code is just bells and whistles\n",
    "    if (i+1)%5==0:\n",
    "        clear_output(True)\n",
    "        plt.plot(x_grid,y_grid, color='blue', label='true f')\n",
    "        plt.scatter(x_new, y_new, color='red')\n",
    "        \n",
    "        #╰( ͡° ͜ʖ ͡° )つ──☆*:・ﾟ \n",
    "        poly = np.linalg.inv(XTX) @ XTy\n",
    "        y_pred = np.polyval(poly, x_grid)\n",
    "        \n",
    "        plt.scatter(x_grid, y_pred, color='orange', linewidth=5, label='predicted f')\n",
    "        \n",
    "        plt.legend(loc='upper left')\n",
    "        plt.show()\n",
    "        print(poly)"
   ]
  },
  {
   "cell_type": "code",
   "execution_count": 30,
   "metadata": {},
   "outputs": [
    {
     "data": {
      "text/plain": [
       "4.67344276242878"
      ]
     },
     "execution_count": 30,
     "metadata": {},
     "output_type": "execute_result"
    }
   ],
   "source": [
    "x_new = np.random.uniform(-2, 5)\n",
    "x_new"
   ]
  },
  {
   "cell_type": "markdown",
   "metadata": {},
   "source": [
    "### Добавление. QR-разложение"
   ]
  },
  {
   "cell_type": "markdown",
   "metadata": {},
   "source": [
    "**QR-разложением** матрицы $A$ (не обязательно квадратной) мы будем называть её представление в виде $A = QR$, где $Q$ — матрица с ортонормированными столбцами, а $R$ - верхнетреугольная матрица.\n",
    "\n",
    "Смысл QR-разложения следующий. Пусть $a_1,\\ldots,a_m$ — столбцы матрицы $A$, $q_1,\\ldots,q_t$ — столбцы матрицы $Q$. Тогда $q_1,\\ldots,q_t$ — это ортонормированный базис в подпространстве, являющемся линейной оболочкой векторов $a_1,\\ldots,a_m$, а в матрице $R$ записаны коэффициенты, с помощью которых $a_i$ выражаются через $q_1,\\ldots,q_t$.\n",
    "\n",
    "Находить QR-разложение заданной матрицы можно разными способами. Мы познакомим Вас не с самым лучшим из них, но по крайней мере с наиболее простым концептуально. Заметим, что ортогональный базис линейной оболочки можно найти с помощью ортогонализации Грама-Шмидта. При этом коэффициенты из матрицы $R$ получаются в качестве побочного продукта этого процесса:\n",
    "\n",
    "```python\n",
    "for j = 1...n:\n",
    "    q_j = a_j\n",
    "    for i = 1,...,j-1:\n",
    "        r_ij = (q_i, a_j)\n",
    "        q_j = q_j - r_ij * q_i\n",
    "    r_jj = |q_j|\n",
    "    if r_jj == 0: # a_j in <a_1,...,a_j-1>\n",
    "        # What would you do in this case?..\n",
    "    q_j = q_j / r_jj\n",
    "```\n",
    "\n",
    "Для нахождения QR-разложения Вы можете использовать библиотечную функцию `scipy.linalg.qr`."
   ]
  },
  {
   "cell_type": "markdown",
   "metadata": {},
   "source": [
    "Поскольку лабораторная про линейную регрессию, не так-то просто замять вопрос о том, какое же отношение QR-разложение имеет к задаче регрессии. Упомянем одно из возможных применений.\n",
    "\n",
    "Допустим, мы нашли QR-разложение матрицы $X$, а именно: $X = QR$. Тогда\n",
    "$$X^TX = (QR)^T(QR) = R^TQ^TQR = R^TR$$"
   ]
  },
  {
   "cell_type": "markdown",
   "metadata": {},
   "source": [
    "Поскольку в задаче регрессии матрица $X$ обычного полного ранга (то есть её столбцы линейно независимы), матрица $R$ будет квадратной. Благодаря этому нашу обычную формулу для набора регрессионных коэффициентов $\\hat{a}$ можно переписать в следующем виде:\n",
    "\n",
    "$$\\hat{a} = (X^TX)^{-1}X^Ty = (R^TR)^{-1}(QR)^Ty = R^{-1}(R^T)^{-1}R^TQ^Ty = R^{-1}Q^Ty$$\n",
    "\n",
    "Как видите, формула стала проще. Более того, зачастую обращение матрицы $R$ может быть численно более устойчиво, чем обращение матрицы $X^TX$."
   ]
  },
  {
   "cell_type": "code",
   "execution_count": null,
   "metadata": {},
   "outputs": [],
   "source": []
  },
  {
   "cell_type": "code",
   "execution_count": null,
   "metadata": {},
   "outputs": [],
   "source": []
  },
  {
   "cell_type": "code",
   "execution_count": null,
   "metadata": {},
   "outputs": [],
   "source": []
  },
  {
   "cell_type": "code",
   "execution_count": null,
   "metadata": {},
   "outputs": [],
   "source": []
  }
 ],
 "metadata": {
  "kernelspec": {
   "display_name": "Python 3",
   "language": "python",
   "name": "python3"
  },
  "language_info": {
   "codemirror_mode": {
    "name": "ipython",
    "version": 3
   },
   "file_extension": ".py",
   "mimetype": "text/x-python",
   "name": "python",
   "nbconvert_exporter": "python",
   "pygments_lexer": "ipython3",
   "version": "3.8.3"
  }
 },
 "nbformat": 4,
 "nbformat_minor": 1
}
